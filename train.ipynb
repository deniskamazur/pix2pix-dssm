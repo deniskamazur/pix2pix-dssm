{
 "cells": [
  {
   "cell_type": "markdown",
   "metadata": {},
   "source": [
    "## Prepare dataset"
   ]
  },
  {
   "cell_type": "code",
   "execution_count": 1,
   "metadata": {},
   "outputs": [],
   "source": [
    "import os\n",
    "from PIL import Image\n",
    "\n",
    "from torch.utils.data import DataLoader, Dataset, ConcatDataset\n",
    "from torchvision import transforms, utils, models\n",
    "import torch\n",
    "\n",
    "import matplotlib.pyplot as plt\n",
    "%matplotlib inline"
   ]
  },
  {
   "cell_type": "code",
   "execution_count": 3,
   "metadata": {},
   "outputs": [],
   "source": [
    "#img = Image.open('edges2shoes/train/10000_AB.jpg')\n",
    "#plt.imshow(data_transform(img.crop((256, 0, 512, 256))).data.numpy().transpose(1, 2, 0))"
   ]
  },
  {
   "cell_type": "code",
   "execution_count": 4,
   "metadata": {},
   "outputs": [],
   "source": [
    "# https://www.kaggle.com/pinocookie/pytorch-dataset-and-dataloader\n",
    "\n",
    "class DatasetPix2Pix:\n",
    "    def __init__(self, data_path):\n",
    "        self.filenames = [os.path.join(data_path, filename) for filename in os.listdir(data_path)]\n",
    "        \n",
    "        self.data_transform = transforms.Compose([\n",
    "            transforms.Resize(224),\n",
    "            transforms.ToTensor(),\n",
    "            transforms.Normalize(mean=[0.485, 0.456, 0.406],\n",
    "                                 std=[0.229, 0.224, 0.225])\n",
    "        ])\n",
    "        \n",
    "    def __getitem__(self, index):\n",
    "        image = Image.open(self.filenames[index])\n",
    "        \n",
    "        left = image.crop((0, 0, 256, 256))\n",
    "        right = image.crop((256, 0, 512, 256))\n",
    "        return self.data_transform(left),\\\n",
    "               self.data_transform(right)\n",
    "    \n",
    "    def __len__(self):\n",
    "        return len(self.filenames)\n",
    "    \n",
    "    def __add__(self, other):\n",
    "        return ConcatDataset([self, other])"
   ]
  },
  {
   "cell_type": "code",
   "execution_count": 6,
   "metadata": {},
   "outputs": [],
   "source": [
    "data = DatasetPix2Pix('edges2shoes/train/')\n",
    "dataloader = DataLoader(data, batch_size=8, shuffle=True, num_workers=4)"
   ]
  },
  {
   "cell_type": "code",
   "execution_count": 117,
   "metadata": {},
   "outputs": [],
   "source": [
    "resnet = torchvision.models.resnet34(pretrained=True).cuda()"
   ]
  },
  {
   "cell_type": "code",
   "execution_count": 7,
   "metadata": {},
   "outputs": [],
   "source": [
    "import torchvision"
   ]
  },
  {
   "cell_type": "code",
   "execution_count": 9,
   "metadata": {},
   "outputs": [],
   "source": [
    "class Vectorizer(torch.nn.Module):\n",
    "    def __init__(self, enc_size=256):\n",
    "        super(self.__class__, self).__init__()\n",
    "        \n",
    "        self.resnet = torchvision.models.resnet34(pretrained=True)\n",
    "        \n",
    "        self.code = torch.nn.Sequential(torch.nn.Linear(1000, 512), \n",
    "                                        torch.nn.ReLU(), \n",
    "                                        torch.nn.Linear(512, enc_size))\n",
    "        \n",
    "    def forward(self, x):\n",
    "        resnet_code = self.resnet(x)\n",
    "        return self.code(resnet_code)"
   ]
  },
  {
   "cell_type": "code",
   "execution_count": 16,
   "metadata": {},
   "outputs": [],
   "source": [
    "class Siamize(torch.nn.Module):\n",
    "    def __init__(self, enc_size=256):\n",
    "        super(self.__class__, self).__init__()\n",
    "        \n",
    "        self.vec1 = Vectorizer(enc_size)\n",
    "        self.vec2 = Vectorizer(enc_size)\n",
    "        \n",
    "    def forward(self, x, y):\n",
    "        return self.vec1(x), self.vec2(y)"
   ]
  },
  {
   "cell_type": "code",
   "execution_count": 17,
   "metadata": {},
   "outputs": [],
   "source": [
    "siam = Siamize()"
   ]
  },
  {
   "cell_type": "code",
   "execution_count": 51,
   "metadata": {},
   "outputs": [
    {
     "name": "stdout",
     "output_type": "stream",
     "text": [
      "On branch master\r\n",
      "\r\n",
      "Initial commit\r\n",
      "\r\n",
      "Changes to be committed:\r\n",
      "  (use \"git rm --cached <file>...\" to unstage)\r\n",
      "\r\n",
      "\t\u001b[32mnew file:   .gitignore\u001b[m\r\n",
      "\t\u001b[32mnew file:   Untitled.ipynb\u001b[m\r\n",
      "\r\n"
     ]
    }
   ],
   "source": [
    "!git status"
   ]
  },
  {
   "cell_type": "code",
   "execution_count": 48,
   "metadata": {},
   "outputs": [
    {
     "name": "stdout",
     "output_type": "stream",
     "text": [
      "ipynb_checkpoints/\r\n",
      "edges2shoes\r\n",
      "edges2shoes/\r\n",
      ".ipynb_checkpoints/\r\n"
     ]
    }
   ],
   "source": [
    "!cat .gitignore"
   ]
  },
  {
   "cell_type": "code",
   "execution_count": 47,
   "metadata": {},
   "outputs": [],
   "source": [
    "!echo '.ipynb_checkpoints/' >> .gitignore"
   ]
  }
 ],
 "metadata": {
  "kernelspec": {
   "display_name": "Python 3",
   "language": "python",
   "name": "python3"
  },
  "language_info": {
   "codemirror_mode": {
    "name": "ipython",
    "version": 3
   },
   "file_extension": ".py",
   "mimetype": "text/x-python",
   "name": "python",
   "nbconvert_exporter": "python",
   "pygments_lexer": "ipython3",
   "version": "3.6.4"
  }
 },
 "nbformat": 4,
 "nbformat_minor": 2
}
