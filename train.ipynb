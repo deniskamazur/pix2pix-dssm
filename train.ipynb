{
 "cells": [
  {
   "cell_type": "markdown",
   "metadata": {},
   "source": [
    "## Prepare dataset"
   ]
  },
  {
   "cell_type": "code",
   "execution_count": 1,
   "metadata": {},
   "outputs": [],
   "source": [
    "import os\n",
    "from PIL import Image\n",
    "\n",
    "from torch.utils.data import DataLoader, Dataset, ConcatDataset\n",
    "from torchvision import transforms, utils, models\n",
    "import torch\n",
    "\n",
    "import matplotlib.pyplot as plt\n",
    "%matplotlib inline"
   ]
  },
  {
   "cell_type": "code",
   "execution_count": 2,
   "metadata": {},
   "outputs": [],
   "source": [
    "# https://www.kaggle.com/pinocookie/pytorch-dataset-and-dataloader\n",
    "import random\n",
    "\n",
    "class DatasetPix2Pix:\n",
    "    def __init__(self, data_path):\n",
    "        self.filenames = [os.path.join(data_path, filename) for filename in os.listdir(data_path)]\n",
    "        \n",
    "        self.data_transform = transforms.Compose([\n",
    "            transforms.Resize(224),\n",
    "            transforms.ToTensor(),\n",
    "            transforms.Normalize(mean=[0.485, 0.456, 0.406],\n",
    "                                 std=[0.229, 0.224, 0.225])\n",
    "        ])\n",
    "        \n",
    "    def __getitem__(self, index):\n",
    "        image = Image.open(self.filenames[index])\n",
    "        \n",
    "        unused = self.filenames.copy()\n",
    "        unused.pop(index)\n",
    "        \n",
    "        anchor = image.crop((0, 0, 256, 256))\n",
    "        positive = image.crop((256, 0, 512, 256))\n",
    "        negative = Image.open(random.choice(unused)).crop((256, 0, 512, 256))\n",
    "        \n",
    "        return self.data_transform(anchor),\\\n",
    "               self.data_transform(positive),\\\n",
    "               self.data_transform(negative)\n",
    "    \n",
    "    def __len__(self):\n",
    "        return len(self.filenames)\n",
    "    \n",
    "    def __add__(self, other):\n",
    "        return ConcatDataset([self, other])"
   ]
  },
  {
   "cell_type": "code",
   "execution_count": 3,
   "metadata": {},
   "outputs": [],
   "source": [
    "data = DatasetPix2Pix('edges2shoes/train/')\n",
    "dataloader = DataLoader(data, batch_size=8, shuffle=True, num_workers=4)"
   ]
  },
  {
   "cell_type": "markdown",
   "metadata": {},
   "source": [
    "## Models"
   ]
  },
  {
   "cell_type": "code",
   "execution_count": 4,
   "metadata": {},
   "outputs": [],
   "source": [
    "import torchvision\n",
    "\n",
    "class Vectorizer(torch.nn.Module):\n",
    "    def __init__(self, resnet, enc_size=256):\n",
    "        super(self.__class__, self).__init__()\n",
    "        \n",
    "        self.resnet = resnet\n",
    "        \n",
    "        self.code = torch.nn.Sequential(torch.nn.Linear(1000, 512), \n",
    "                                        torch.nn.ReLU(), \n",
    "                                        torch.nn.Linear(512, enc_size))\n",
    "        \n",
    "    def forward(self, x):\n",
    "        resnet_code = self.resnet(x)\n",
    "        return self.code(resnet_code)"
   ]
  },
  {
   "cell_type": "code",
   "execution_count": 5,
   "metadata": {},
   "outputs": [],
   "source": [
    "class Siamize(torch.nn.Module):\n",
    "    def __init__(self, enc_size=256):\n",
    "        super(self.__class__, self).__init__()\n",
    "        \n",
    "        self.resnet = torchvision.models.resnet34(pretrained=True)\n",
    "        \n",
    "        self.vec1 = Vectorizer(self.resnet, enc_size)\n",
    "        self.vec2 = Vectorizer(self.resnet, enc_size)\n",
    "        \n",
    "    def forward(self, anchor, positive, negative):\n",
    "        return self.vec1(anchor), self.vec2(positive), self.vec2(negative)"
   ]
  },
  {
   "cell_type": "code",
   "execution_count": 6,
   "metadata": {},
   "outputs": [],
   "source": [
    "import torch.nn.functional as F\n",
    "\n",
    "def triplet_loss(enc_anch, enc_pos, enc_neg, alpha=1):\n",
    "    a = F.pairwise_distance(enc_anch, enc_pos, 2)\n",
    "    b = F.pairwise_distance(enc_anch, enc_neg, 2)\n",
    "    \n",
    "    return torch.mean(a - b + alpha)"
   ]
  },
  {
   "cell_type": "code",
   "execution_count": 7,
   "metadata": {},
   "outputs": [],
   "source": [
    "siam = Siamize().cuda()"
   ]
  },
  {
   "cell_type": "code",
   "execution_count": 8,
   "metadata": {},
   "outputs": [],
   "source": [
    "a, p, n = iter(dataloader).next()"
   ]
  },
  {
   "cell_type": "code",
   "execution_count": 9,
   "metadata": {},
   "outputs": [
    {
     "data": {
      "text/plain": [
       "(tensor([[-0.0961, -0.4084, -0.9887,  ..., -0.5545,  0.2012,  0.0194],\n",
       "         [-0.6371, -0.2477, -0.4460,  ..., -0.6385, -0.4635,  0.4135],\n",
       "         [-0.2660,  0.0477, -0.5092,  ..., -0.5798, -0.4693,  0.1814],\n",
       "         ...,\n",
       "         [ 0.0099, -0.2003, -0.2601,  ..., -0.0406, -0.6406,  0.1064],\n",
       "         [ 0.0675,  0.2043, -0.7045,  ..., -0.9387, -0.0453, -0.1944],\n",
       "         [ 0.3235, -0.4560, -0.3258,  ...,  0.1041,  0.5716,  0.3094]],\n",
       "        device='cuda:0', grad_fn=<ThAddmmBackward>),\n",
       " tensor([[-0.4714,  0.3293, -0.4218,  ...,  0.1529,  0.1064,  0.6215],\n",
       "         [-0.1963,  0.0871, -0.4475,  ..., -0.2807, -0.0438,  0.4317],\n",
       "         [-0.4859, -0.0240, -0.3416,  ...,  0.3543, -0.3397,  0.3067],\n",
       "         ...,\n",
       "         [-0.0281,  0.0280,  0.1903,  ...,  0.5573, -0.1121,  0.2209],\n",
       "         [-0.3024, -0.0112, -0.8941,  ..., -0.1444, -0.1628,  0.6426],\n",
       "         [-0.0799, -1.3123, -0.6613,  ...,  0.7629, -0.2278,  1.0274]],\n",
       "        device='cuda:0', grad_fn=<ThAddmmBackward>),\n",
       " tensor([[-0.3341, -0.0594, -0.3254,  ...,  0.0185, -0.5308,  0.2901],\n",
       "         [ 0.1951,  0.1699,  0.0124,  ...,  0.6517, -0.0340,  0.7556],\n",
       "         [-0.5830, -0.4388, -0.6778,  ...,  0.0380, -0.2736,  0.5827],\n",
       "         ...,\n",
       "         [ 0.3875, -0.4346, -0.3722,  ...,  0.5194, -0.0270,  0.9361],\n",
       "         [-0.0329,  0.3972, -0.0538,  ...,  0.5644,  0.2881,  0.5388],\n",
       "         [ 0.0485, -0.4967, -0.4668,  ..., -0.1665,  0.3936,  1.0061]],\n",
       "        device='cuda:0', grad_fn=<ThAddmmBackward>))"
      ]
     },
     "execution_count": 9,
     "metadata": {},
     "output_type": "execute_result"
    }
   ],
   "source": [
    "siam(a.cuda(), p.cuda(), n.cuda())"
   ]
  }
 ],
 "metadata": {
  "kernelspec": {
   "display_name": "Python 3",
   "language": "python",
   "name": "python3"
  },
  "language_info": {
   "codemirror_mode": {
    "name": "ipython",
    "version": 3
   },
   "file_extension": ".py",
   "mimetype": "text/x-python",
   "name": "python",
   "nbconvert_exporter": "python",
   "pygments_lexer": "ipython3",
   "version": "3.6.4"
  }
 },
 "nbformat": 4,
 "nbformat_minor": 2
}
